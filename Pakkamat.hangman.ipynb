{
 "cells": [
  {
   "cell_type": "code",
   "execution_count": null,
   "metadata": {},
   "outputs": [],
   "source": [
    "word = \"hangman\"\n",
    "y = ''\n",
    "turns = 8\n",
    "while turns > 0:\n",
    "    failed = 0\n",
    "    # Print the words that contain in word put in y\n",
    "    for i in word:\n",
    "        if i in y:\n",
    "            print(i, end= ' ')\n",
    "        else:\n",
    "            print(\"_\", end = ' ')\n",
    "            failed += 1\n",
    "    # If u have all word == Win\n",
    "    if failed == 0:\n",
    "        print(\">> You survived !\")\n",
    "        break\n",
    "    x = input(\"Input a letter: > \")\n",
    "    # put x in y\n",
    "    y += x\n",
    "    # x not in word turns or times -1\n",
    "    if x not in word:\n",
    "        turns -= 1\n",
    "        print(\"No such letter in the word\")\n",
    "    #print(\"You have\", + turns, 'lives')\n",
    "    # if turn = 0 >>> lose\n",
    "    if turns == 0:\n",
    "        print(\"You hanged\")"
   ]
  },
  {
   "cell_type": "code",
   "execution_count": null,
   "metadata": {},
   "outputs": [],
   "source": []
  }
 ],
 "metadata": {
  "kernelspec": {
   "display_name": "Python 3",
   "language": "python",
   "name": "python3"
  },
  "language_info": {
   "codemirror_mode": {
    "name": "ipython",
    "version": 3
   },
   "file_extension": ".py",
   "mimetype": "text/x-python",
   "name": "python",
   "nbconvert_exporter": "python",
   "pygments_lexer": "ipython3",
   "version": "3.6.8"
  }
 },
 "nbformat": 4,
 "nbformat_minor": 4
}
