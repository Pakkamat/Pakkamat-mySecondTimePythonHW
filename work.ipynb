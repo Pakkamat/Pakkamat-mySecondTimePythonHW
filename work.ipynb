{
 "cells": [
  {
   "cell_type": "code",
   "execution_count": 1,
   "metadata": {},
   "outputs": [
    {
     "name": "stdout",
     "output_type": "stream",
     "text": [
      "_ _ _ _ _ _ _ Input a letter: > d\n",
      "No such letter in the word\n",
      "_ _ _ _ _ _ _ Input a letter: > s\n",
      "No such letter in the word\n",
      "_ _ _ _ _ _ _ Input a letter: > a\n",
      "_ a _ _ _ a _ Input a letter: > z\n",
      "No such letter in the word\n",
      "_ a _ _ _ a _ Input a letter: > x\n",
      "No such letter in the word\n",
      "_ a _ _ _ a _ Input a letter: > c\n",
      "No such letter in the word\n",
      "_ a _ _ _ a _ Input a letter: > v\n",
      "No such letter in the word\n",
      "_ a _ _ _ a _ Input a letter: > b\n",
      "No such letter in the word\n",
      "_ a _ _ _ a _ Input a letter: > d\n",
      "No such letter in the word\n",
      "You hanged\n"
     ]
    }
   ],
   "source": [
    "import random\n",
    "aaa = [\"hangman\", \"teacher\", \"helloworld\"]\n",
    "n = random.randint(0, (len(aaa) - 1))\n",
    "word = aaa[n]\n",
    "y = ''\n",
    "turns = 8\n",
    "while turns > 0:\n",
    "    failed = 0\n",
    "    # Print the words that contain in word put in y\n",
    "    for i in word:\n",
    "        if i in y:\n",
    "            print(i, end=' ')\n",
    "        else:\n",
    "            print(\"_\", end=' ')\n",
    "            failed += 1\n",
    "    # If u have all word == Win\n",
    "    if failed == 0:\n",
    "        print(\">> You survived !\")\n",
    "        break\n",
    "    x = input(\"Input a letter: > \")\n",
    "    # put x in y\n",
    "    y += x\n",
    "    # x not in word turns or times -1\n",
    "    if x not in word:\n",
    "        turns -= 1\n",
    "        print(\"No such letter in the word\")\n",
    "    #print(\"You have\", + turns, 'lives')\n",
    "    # if turn = 0 >>> lose\n",
    "    if turns == 0:\n",
    "        print(\"You hanged\")"
   ]
  },
  {
   "cell_type": "code",
   "execution_count": 19,
   "metadata": {},
   "outputs": [
    {
     "name": "stdout",
     "output_type": "stream",
     "text": [
      "3\n",
      "3\n",
      "1.7320508075688772\n"
     ]
    }
   ],
   "source": [
    "a = int(input())\n",
    "x = int(input())\n",
    "#a = x | ex a = 3 , x = 3\n",
    "while True:\n",
    "    y = (x+ a/x) / 2\n",
    "    if y == x:\n",
    "        print(x)\n",
    "        break\n",
    "    x = y"
   ]
  },
  {
   "cell_type": "code",
   "execution_count": 35,
   "metadata": {},
   "outputs": [
    {
     "name": "stdout",
     "output_type": "stream",
     "text": [
      "3\n",
      "1.7320508075688772\n"
     ]
    }
   ],
   "source": [
    "import math  \n",
    "x = int(input())\n",
    "print(math.sqrt(x))  "
   ]
  },
  {
   "cell_type": "code",
   "execution_count": 34,
   "metadata": {},
   "outputs": [
    {
     "name": "stdout",
     "output_type": "stream",
     "text": [
      "Input array  :  [1 3 4 7 9]\n",
      "First order difference  :  [2 1 3 2]\n",
      "Second order difference :  [-1  2 -1]\n",
      "Third order difference  :  [ 3 -3]\n"
     ]
    }
   ],
   "source": [
    "import numpy as geek  \n",
    "arr = geek.array([1, 3, 4, 7, 9]) \n",
    "   \n",
    "print(\"Input array  : \", arr) \n",
    "print(\"First order difference  : \", geek.diff(arr)) \n",
    "print(\"Second order difference : \", geek.diff(arr, n = 2)) \n",
    "print(\"Third order difference  : \", geek.diff(arr, n = 3)) "
   ]
  },
  {
   "cell_type": "code",
   "execution_count": null,
   "metadata": {},
   "outputs": [],
   "source": []
  }
 ],
 "metadata": {
  "kernelspec": {
   "display_name": "Python 3",
   "language": "python",
   "name": "python3"
  },
  "language_info": {
   "codemirror_mode": {
    "name": "ipython",
    "version": 3
   },
   "file_extension": ".py",
   "mimetype": "text/x-python",
   "name": "python",
   "nbconvert_exporter": "python",
   "pygments_lexer": "ipython3",
   "version": "3.8.3"
  }
 },
 "nbformat": 4,
 "nbformat_minor": 4
}
